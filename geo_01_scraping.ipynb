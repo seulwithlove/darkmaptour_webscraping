{
 "cells": [
  {
   "cell_type": "markdown",
   "id": "20ecaeb3-d1ed-4dde-9512-3bd748acb719",
   "metadata": {
    "deletable": true,
    "editable": true,
    "frozen": false
   },
   "source": [
    "## import"
   ]
  },
  {
   "cell_type": "code",
   "execution_count": 1,
   "id": "166d95fb-2e4e-49c8-9337-bfd434916ff2",
   "metadata": {
    "deletable": true,
    "editable": true,
    "execution": {
     "iopub.execute_input": "2024-06-01T12:50:56.740213Z",
     "iopub.status.busy": "2024-06-01T12:50:56.739475Z",
     "iopub.status.idle": "2024-06-01T12:50:56.770900Z",
     "shell.execute_reply": "2024-06-01T12:50:56.770450Z",
     "shell.execute_reply.started": "2024-06-01T12:50:56.740179Z"
    },
    "frozen": false
   },
   "outputs": [],
   "source": [
    "%load_ext autoreload"
   ]
  },
  {
   "cell_type": "code",
   "execution_count": 2,
   "id": "b4734d49-1cff-4750-90b5-4491d97c471a",
   "metadata": {
    "deletable": true,
    "editable": true,
    "execution": {
     "iopub.execute_input": "2024-06-01T12:50:56.772531Z",
     "iopub.status.busy": "2024-06-01T12:50:56.772406Z",
     "iopub.status.idle": "2024-06-01T12:50:57.422050Z",
     "shell.execute_reply": "2024-06-01T12:50:57.421796Z",
     "shell.execute_reply.started": "2024-06-01T12:50:56.772520Z"
    },
    "frozen": false,
    "scrolled": true
   },
   "outputs": [],
   "source": [
    "%aimport utils.webscraping"
   ]
  },
  {
   "cell_type": "code",
   "execution_count": 3,
   "id": "f2c8323c-3397-4fac-b34f-9946c81a37f7",
   "metadata": {
    "deletable": true,
    "editable": true,
    "execution": {
     "iopub.execute_input": "2024-06-01T12:50:57.422591Z",
     "iopub.status.busy": "2024-06-01T12:50:57.422472Z",
     "iopub.status.idle": "2024-06-01T12:50:57.424544Z",
     "shell.execute_reply": "2024-06-01T12:50:57.424304Z",
     "shell.execute_reply.started": "2024-06-01T12:50:57.422583Z"
    },
    "frozen": false
   },
   "outputs": [],
   "source": [
    "import pandas as pd \n",
    "import numpy as np\n",
    "import math\n",
    "import re\n",
    "\n",
    "# from icecream import ic   # 디버깅용 - print 대신 사용\n",
    "from tqdm.notebook import tqdm \n",
    "\n",
    "from utils.custom_utils import load_var, save_var, get_current_time\n",
    "from utils.webscraping import ArticleScraper, get_text_hk"
   ]
  },
  {
   "cell_type": "code",
   "execution_count": 4,
   "id": "4c6ec6de-74f8-4136-a41e-147c6b730c29",
   "metadata": {
    "deletable": true,
    "editable": true,
    "execution": {
     "iopub.execute_input": "2024-06-01T12:50:57.425452Z",
     "iopub.status.busy": "2024-06-01T12:50:57.425363Z",
     "iopub.status.idle": "2024-06-01T12:50:57.427053Z",
     "shell.execute_reply": "2024-06-01T12:50:57.426818Z",
     "shell.execute_reply.started": "2024-06-01T12:50:57.425445Z"
    },
    "frozen": false
   },
   "outputs": [],
   "source": [
    "%autoreload 2"
   ]
  },
  {
   "cell_type": "code",
   "execution_count": 5,
   "id": "12f4bd82-b0db-461e-9cc6-7eb029e3d0f5",
   "metadata": {
    "deletable": true,
    "editable": true,
    "execution": {
     "iopub.execute_input": "2024-06-01T12:50:57.427407Z",
     "iopub.status.busy": "2024-06-01T12:50:57.427339Z",
     "iopub.status.idle": "2024-06-01T12:50:57.777311Z",
     "shell.execute_reply": "2024-06-01T12:50:57.776997Z",
     "shell.execute_reply.started": "2024-06-01T12:50:57.427401Z"
    },
    "frozen": false
   },
   "outputs": [],
   "source": [
    "# 링크가 담겨있는 엑셀파일\n",
    "df = pd.read_excel(\"./dataframe/EDITED_2_헌팅+미행_자연어_한국경제_2013.1.1~2022.3.7.xlsx\")"
   ]
  },
  {
   "cell_type": "code",
   "execution_count": 6,
   "id": "4444ae9c-a21b-4ba3-bd3e-ec6a0f779cc0",
   "metadata": {
    "deletable": true,
    "editable": true,
    "execution": {
     "iopub.execute_input": "2024-06-01T12:50:57.777775Z",
     "iopub.status.busy": "2024-06-01T12:50:57.777700Z",
     "iopub.status.idle": "2024-06-01T12:50:57.787684Z",
     "shell.execute_reply": "2024-06-01T12:50:57.787439Z",
     "shell.execute_reply.started": "2024-06-01T12:50:57.777768Z"
    },
    "frozen": false
   },
   "outputs": [],
   "source": [
    "# scr = load_var('scr_geo_01')\n",
    "# scr = ArticleScraper(df.iloc[:2])\n",
    "\n",
    "# 스크래핑 클래스-인스턴스\n",
    "scr = ArticleScraper(df)"
   ]
  },
  {
   "cell_type": "code",
   "execution_count": 21,
   "id": "797bed6d-c725-4295-a721-e6f1ad3144e6",
   "metadata": {
    "deletable": true,
    "editable": true,
    "execution": {
     "iopub.execute_input": "2024-06-01T12:22:05.184671Z",
     "iopub.status.busy": "2024-06-01T12:22:05.183496Z",
     "iopub.status.idle": "2024-06-01T12:22:23.835802Z",
     "shell.execute_reply": "2024-06-01T12:22:23.835243Z",
     "shell.execute_reply.started": "2024-06-01T12:22:05.184634Z"
    },
    "frozen": false
   },
   "outputs": [
    {
     "data": {
      "application/vnd.jupyter.widget-view+json": {
       "model_id": "a4754f2669984cfab36358fe688a7eb7",
       "version_major": 2,
       "version_minor": 0
      },
      "text/plain": [
       "  0%|          | 0/2 [00:00<?, ?it/s]"
      ]
     },
     "metadata": {},
     "output_type": "display_data"
    }
   ],
   "source": [
    "# 스크래핑 시작\n",
    "'''\n",
    "html 전체 저장\n",
    "'''\n",
    "scr.scrape_by_selenium()"
   ]
  },
  {
   "cell_type": "code",
   "execution_count": null,
   "id": "695b589f-f98a-42ac-93cf-cf9bda77862b",
   "metadata": {},
   "outputs": [],
   "source": [
    "# 한국경제 본문 추출 : BeautifulSoup 이용\n",
    "def get_text_hk(soup: BeautifulSoup) -> str:\n",
    "    # div class=\"article-body\"에 본문애서 찾기\n",
    "    article_body = soup.find_all(\"div\", class_=\"article-body\") \n",
    "    if len(article_body) != 0:\n",
    "        return article_body[0].get_text().strip() # 본문을 가져와서 str 변환 + 공백제거\n",
    "    else:\n",
    "        return \"\""
   ]
  },
  {
   "cell_type": "code",
   "execution_count": 22,
   "id": "53951cc2-fbc6-4415-9f5a-e2b6b5de052a",
   "metadata": {
    "deletable": true,
    "editable": true,
    "execution": {
     "iopub.execute_input": "2024-06-01T12:22:32.156903Z",
     "iopub.status.busy": "2024-06-01T12:22:32.155321Z",
     "iopub.status.idle": "2024-06-01T12:22:32.274632Z",
     "shell.execute_reply": "2024-06-01T12:22:32.274372Z",
     "shell.execute_reply.started": "2024-06-01T12:22:32.156821Z"
    },
    "frozen": false
   },
   "outputs": [
    {
     "data": {
      "application/vnd.jupyter.widget-view+json": {
       "model_id": "f9702d4b0afb4b849574cad4a7398a34",
       "version_major": 2,
       "version_minor": 0
      },
      "text/plain": [
       "  0%|          | 0/2 [00:00<?, ?it/s]"
      ]
     },
     "metadata": {},
     "output_type": "display_data"
    }
   ],
   "source": [
    "# 저장 내용에서 본문 불러오기\n",
    "'''\n",
    "get_text_html_func : html에서 text를 뽑는 함수 전달\n",
    "- utils/webscraping.py 파일에서 get_text_hk 함수 참고\n",
    "- 각 언론사의 본문 태그 위치 확인 \n",
    "'''\n",
    "scr.make_content_from_html(get_text_html_func=get_text_hk)"
   ]
  },
  {
   "cell_type": "code",
   "execution_count": 23,
   "id": "63735b8f-24bb-45b1-8dca-eba876b4fe7d",
   "metadata": {
    "deletable": true,
    "editable": true,
    "execution": {
     "iopub.execute_input": "2024-06-01T12:22:33.976758Z",
     "iopub.status.busy": "2024-06-01T12:22:33.976415Z",
     "iopub.status.idle": "2024-06-01T12:22:34.019930Z",
     "shell.execute_reply": "2024-06-01T12:22:34.019626Z",
     "shell.execute_reply.started": "2024-06-01T12:22:33.976742Z"
    },
    "frozen": false,
    "scrolled": true
   },
   "outputs": [
    {
     "name": "stdout",
     "output_type": "stream",
     "text": [
      "<class 'pandas.core.frame.DataFrame'>\n",
      "RangeIndex: 2 entries, 0 to 1\n",
      "Data columns (total 18 columns):\n",
      " #   Column         Non-Null Count  Dtype  \n",
      "---  ------         --------------  -----  \n",
      " 0   범죄 유형          0 non-null      float64\n",
      " 1   지역             0 non-null      float64\n",
      " 2   위도             0 non-null      float64\n",
      " 3   경도             0 non-null      float64\n",
      " 4   중복 여부          0 non-null      float64\n",
      " 5   퀄리티            0 non-null      float64\n",
      " 6   제외 여부          0 non-null      float64\n",
      " 7   기사제목           2 non-null      object \n",
      " 8   사건 장소          1 non-null      object \n",
      " 9   수사 기관          2 non-null      object \n",
      " 10  본문             2 non-null      object \n",
      " 11  URL            2 non-null      object \n",
      " 12  일자             2 non-null      int64  \n",
      " 13  언론사            2 non-null      object \n",
      " 14  기고자            2 non-null      object \n",
      " 15  비고             0 non-null      float64\n",
      " 16  selenium_html  2 non-null      object \n",
      " 17  content        2 non-null      object \n",
      "dtypes: float64(8), int64(1), object(9)\n",
      "memory usage: 416.0+ bytes\n"
     ]
    }
   ],
   "source": [
    "scr.df.info()"
   ]
  },
  {
   "cell_type": "code",
   "execution_count": 24,
   "id": "316cd7d6-7205-4f58-a002-7dc7db397c4b",
   "metadata": {
    "deletable": true,
    "editable": true,
    "execution": {
     "iopub.execute_input": "2024-06-01T12:22:39.374103Z",
     "iopub.status.busy": "2024-06-01T12:22:39.373388Z",
     "iopub.status.idle": "2024-06-01T12:22:39.414244Z",
     "shell.execute_reply": "2024-06-01T12:22:39.413905Z",
     "shell.execute_reply.started": "2024-06-01T12:22:39.374060Z"
    },
    "frozen": false
   },
   "outputs": [
    {
     "data": {
      "text/html": [
       "<div>\n",
       "<style scoped>\n",
       "    .dataframe tbody tr th:only-of-type {\n",
       "        vertical-align: middle;\n",
       "    }\n",
       "\n",
       "    .dataframe tbody tr th {\n",
       "        vertical-align: top;\n",
       "    }\n",
       "\n",
       "    .dataframe thead th {\n",
       "        text-align: right;\n",
       "    }\n",
       "</style>\n",
       "<table border=\"1\" class=\"dataframe\">\n",
       "  <thead>\n",
       "    <tr style=\"text-align: right;\">\n",
       "      <th></th>\n",
       "      <th>selenium_html</th>\n",
       "      <th>content</th>\n",
       "    </tr>\n",
       "  </thead>\n",
       "  <tbody>\n",
       "    <tr>\n",
       "      <th>0</th>\n",
       "      <td>&lt;body&gt;\\n\\t&lt;div id=\"wrap\" class=\"view\"&gt;\\n\\n\\t\\t...</td>\n",
       "      <td>사진=게티이미지뱅크 \\n\"남편이 요즘 체력이 떨어졌다면서 헬스장에 등록해서 PT를 ...</td>\n",
       "    </tr>\n",
       "    <tr>\n",
       "      <th>1</th>\n",
       "      <td>&lt;body&gt;\\n\\t&lt;div id=\"wrap\" class=\"view\"&gt;\\n\\n\\t\\t...</td>\n",
       "      <td>사진은 기사와 무관함. /사진=게티이미지뱅크\\n이혼 소송 중인 배우자와 다른 남성이...</td>\n",
       "    </tr>\n",
       "  </tbody>\n",
       "</table>\n",
       "</div>"
      ],
      "text/plain": [
       "                                       selenium_html  \\\n",
       "0  <body>\\n\\t<div id=\"wrap\" class=\"view\">\\n\\n\\t\\t...   \n",
       "1  <body>\\n\\t<div id=\"wrap\" class=\"view\">\\n\\n\\t\\t...   \n",
       "\n",
       "                                             content  \n",
       "0  사진=게티이미지뱅크 \\n\"남편이 요즘 체력이 떨어졌다면서 헬스장에 등록해서 PT를 ...  \n",
       "1  사진은 기사와 무관함. /사진=게티이미지뱅크\\n이혼 소송 중인 배우자와 다른 남성이...  "
      ]
     },
     "execution_count": 24,
     "metadata": {},
     "output_type": "execute_result"
    }
   ],
   "source": [
    "# selenium_html : 스크래핑한 html 원문\n",
    "# content : html 원문에서 추출한 본문\n",
    "scr.df[['selenium_html', 'content']]"
   ]
  },
  {
   "cell_type": "code",
   "execution_count": 17,
   "id": "6be10a95-83f6-4317-9698-7e6e77dc7253",
   "metadata": {
    "deletable": true,
    "editable": true,
    "execution": {
     "iopub.execute_input": "2024-05-28T14:41:13.916243Z",
     "iopub.status.busy": "2024-05-28T14:41:13.915326Z",
     "iopub.status.idle": "2024-05-28T14:41:13.964290Z",
     "shell.execute_reply": "2024-05-28T14:41:13.963921Z",
     "shell.execute_reply.started": "2024-05-28T14:41:13.916171Z"
    },
    "frozen": false
   },
   "outputs": [],
   "source": [
    "# 변수 저장\n",
    "# save_var(scr, 'scr_geo_01')"
   ]
  },
  {
   "cell_type": "code",
   "execution_count": null,
   "id": "86956e0a-4fb0-4278-92a9-88470b03448b",
   "metadata": {},
   "outputs": [],
   "source": [
    "# df 저장\n",
    "# save ... 찾기!"
   ]
  }
 ],
 "metadata": {
  "kernelspec": {
   "display_name": "Python 3 (ipykernel)",
   "language": "python",
   "name": "python3"
  },
  "language_info": {
   "codemirror_mode": {
    "name": "ipython",
    "version": 3
   },
   "file_extension": ".py",
   "mimetype": "text/x-python",
   "name": "python",
   "nbconvert_exporter": "python",
   "pygments_lexer": "ipython3",
   "version": "3.11.1"
  }
 },
 "nbformat": 4,
 "nbformat_minor": 5
}
