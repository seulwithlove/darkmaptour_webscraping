{
 "cells": [
  {
   "cell_type": "markdown",
   "id": "79279a8d-8186-4c4e-8480-1d85fce107c1",
   "metadata": {},
   "source": [
    "## import"
   ]
  },
  {
   "cell_type": "code",
   "execution_count": 1,
   "id": "41bc6241-456f-49a5-9e32-44339f6ac931",
   "metadata": {
    "execution": {
     "iopub.execute_input": "2024-06-01T12:17:09.820976Z",
     "iopub.status.busy": "2024-06-01T12:17:09.819877Z",
     "iopub.status.idle": "2024-06-01T12:17:09.867113Z",
     "shell.execute_reply": "2024-06-01T12:17:09.866780Z",
     "shell.execute_reply.started": "2024-06-01T12:17:09.820937Z"
    }
   },
   "outputs": [],
   "source": [
    "# auto-reload for debugging\n",
    "%load_ext autoreload"
   ]
  },
  {
   "cell_type": "code",
   "execution_count": 2,
   "id": "9d452298-b5df-45c8-931a-a92e86d1449f",
   "metadata": {
    "execution": {
     "iopub.execute_input": "2024-06-01T12:17:09.868728Z",
     "iopub.status.busy": "2024-06-01T12:17:09.868414Z",
     "iopub.status.idle": "2024-06-01T12:17:12.456292Z",
     "shell.execute_reply": "2024-06-01T12:17:12.455975Z",
     "shell.execute_reply.started": "2024-06-01T12:17:09.868693Z"
    },
    "scrolled": true
   },
   "outputs": [],
   "source": [
    "# auto-reload for debugging\n",
    "# importing target\n",
    "%aimport utils.search_address"
   ]
  },
  {
   "cell_type": "code",
   "execution_count": 3,
   "id": "63f8abf5-001a-407d-97c8-1bd37efa092b",
   "metadata": {
    "execution": {
     "iopub.execute_input": "2024-06-01T12:17:12.457130Z",
     "iopub.status.busy": "2024-06-01T12:17:12.456834Z",
     "iopub.status.idle": "2024-06-01T12:17:13.098431Z",
     "shell.execute_reply": "2024-06-01T12:17:13.097990Z",
     "shell.execute_reply.started": "2024-06-01T12:17:12.457120Z"
    }
   },
   "outputs": [],
   "source": [
    "import pandas as pd \n",
    "import numpy as np\n",
    "import math\n",
    "import re\n",
    "\n",
    "from icecream import ic  # for debugging instead of using print\n",
    "from tqdm.notebook import tqdm \n",
    "\n",
    "from utils.custom_utils import load_var, save_var\n",
    "from utils.webscraping import ArticleScraper\n",
    "from utils.search_address import CheckAddressLevels\n",
    "import utils.search_address as sa\n",
    "\n",
    "from importlib import reload\n",
    "\n",
    "# Korea Address Information\n",
    "df_addr = pd.read_parquet('./address/df_addr.parquet.gzip')\n",
    "# Web-scraped Dataframe\n",
    "df_text = pd.read_parquet('./dataframe/flasher_hk_20130101_20220307.gzip')\n"
   ]
  },
  {
   "cell_type": "code",
   "execution_count": 4,
   "id": "318f5d99-017d-446c-a872-80ab1b681d91",
   "metadata": {
    "execution": {
     "iopub.execute_input": "2024-06-01T12:17:13.099174Z",
     "iopub.status.busy": "2024-06-01T12:17:13.098946Z",
     "iopub.status.idle": "2024-06-01T12:17:13.102415Z",
     "shell.execute_reply": "2024-06-01T12:17:13.101611Z",
     "shell.execute_reply.started": "2024-06-01T12:17:13.099166Z"
    }
   },
   "outputs": [],
   "source": [
    "# auto-reload option\n",
    "%autoreload 2"
   ]
  },
  {
   "cell_type": "markdown",
   "id": "6c8ff800-cd43-4930-8238-6c8437b2f4cf",
   "metadata": {},
   "source": [
    "## searching address in the text"
   ]
  },
  {
   "cell_type": "code",
   "execution_count": 5,
   "id": "c99c0449-2cc3-43b5-826c-c22f88aca199",
   "metadata": {
    "execution": {
     "iopub.execute_input": "2024-06-01T12:18:02.708115Z",
     "iopub.status.busy": "2024-06-01T12:18:02.707239Z",
     "iopub.status.idle": "2024-06-01T12:18:02.833063Z",
     "shell.execute_reply": "2024-06-01T12:18:02.828862Z",
     "shell.execute_reply.started": "2024-06-01T12:18:02.708048Z"
    }
   },
   "outputs": [],
   "source": [
    "# index = 0\n",
    "# text_iter = iter(zip(df_text.index[index:], df_text.loc[index:, 'content']))"
   ]
  },
  {
   "cell_type": "code",
   "execution_count": 6,
   "id": "0f339c89-c41f-4f7b-ad91-fdff946a17b4",
   "metadata": {
    "execution": {
     "iopub.execute_input": "2024-06-01T12:18:03.889216Z",
     "iopub.status.busy": "2024-06-01T12:18:03.886516Z",
     "iopub.status.idle": "2024-06-01T12:18:03.920609Z",
     "shell.execute_reply": "2024-06-01T12:18:03.920088Z",
     "shell.execute_reply.started": "2024-06-01T12:18:03.889171Z"
    },
    "scrolled": true
   },
   "outputs": [],
   "source": [
    "# index, text = next(text_iter)\n",
    "# text = sa.clean_text(text)"
   ]
  },
  {
   "cell_type": "code",
   "execution_count": 10,
   "id": "a11ddadc-74a4-4221-8480-4a8de1cb8bb6",
   "metadata": {
    "execution": {
     "iopub.execute_input": "2024-06-01T13:21:45.217770Z",
     "iopub.status.busy": "2024-06-01T13:21:45.215603Z",
     "iopub.status.idle": "2024-06-01T13:21:45.264093Z",
     "shell.execute_reply": "2024-06-01T13:21:45.263243Z",
     "shell.execute_reply.started": "2024-06-01T13:21:45.217707Z"
    }
   },
   "outputs": [],
   "source": [
    "# the web-scraped dataframe deep copy for test: only 2 features\n",
    "df_work = df_text.iloc[:2]"
   ]
  },
  {
   "cell_type": "code",
   "execution_count": 11,
   "id": "08f84b58-8dbc-479f-afe7-e8a33317a8f8",
   "metadata": {
    "execution": {
     "iopub.execute_input": "2024-06-01T13:21:46.061444Z",
     "iopub.status.busy": "2024-06-01T13:21:46.060800Z",
     "iopub.status.idle": "2024-06-01T13:21:53.649481Z",
     "shell.execute_reply": "2024-06-01T13:21:53.649123Z",
     "shell.execute_reply.started": "2024-06-01T13:21:46.061406Z"
    }
   },
   "outputs": [
    {
     "data": {
      "application/vnd.jupyter.widget-view+json": {
       "model_id": "bc62a4c1400d455593ff95d06d94208e",
       "version_major": 2,
       "version_minor": 0
      },
      "text/plain": [
       "  0%|          | 0/2 [00:00<?, ?it/s]"
      ]
     },
     "metadata": {},
     "output_type": "display_data"
    }
   ],
   "source": [
    "# start index and end index\n",
    "start_index = 0\n",
    "end_index = len(df_text)\n",
    "\n",
    "# total length of the dataframe\n",
    "total_length = len(df_work.iloc[start_index:end_index])\n",
    "\n",
    "# loop\n",
    "for index, row in tqdm(df_work[start_index:end_index].iterrows(), total=total_length):\n",
    "    # loading article content\n",
    "    text = row['content']\n",
    "    # checking if the type of the loaded text is string and not empty\n",
    "    if isinstance(text, str) and len(text) > 0:\n",
    "        # cleaning the text like strip()\n",
    "        text = sa.clean_text(text)\n",
    "\n",
    "        # Class instance - CheckAddressLevels\n",
    "        # param: the address dataframe (dataframe)\n",
    "        # param: the loaded article content (string)\n",
    "        self = CheckAddressLevels(df_address=df_addr, text=text)\n",
    "        # processing to extract address\n",
    "        # return value: string\n",
    "        result = self.process()\n",
    "        # putting the result into the location column\n",
    "        df_work.at[index, '지역'] = result\n",
    "\n",
    "        # marking the location information in the article content\n",
    "        text_mark = text\n",
    "        for item in self.df_brief['found_name'].values:\n",
    "            text_mark = sa.re_sub(item, text_mark)\n",
    "        # putting the result into the 'found_text' column\n",
    "        df_work.at[index, 'found_text'] = text_mark\n",
    "\n",
    "        # extracting sentences having the location only \n",
    "        text_marked = sa.extract_sentences_marked(marked_text=text_mark)\n",
    "        # putting the result into the 'found_sentences' column\n",
    "        df_work.at[index, 'found_sentences'] = text_marked"
   ]
  },
  {
   "cell_type": "code",
   "execution_count": 12,
   "id": "07231d62-d839-4db7-9d30-331d8e7b8cab",
   "metadata": {
    "execution": {
     "iopub.execute_input": "2024-06-01T13:23:35.348756Z",
     "iopub.status.busy": "2024-06-01T13:23:35.348223Z",
     "iopub.status.idle": "2024-06-01T13:23:35.510967Z",
     "shell.execute_reply": "2024-06-01T13:23:35.510637Z",
     "shell.execute_reply.started": "2024-06-01T13:23:35.348712Z"
    }
   },
   "outputs": [],
   "source": [
    "# save the dataframe for later \n",
    "df_work.to_csv(\"./dataframe/geo_02_df_work.csv\", index=False)"
   ]
  },
  {
   "cell_type": "markdown",
   "id": "f98438c0-17de-46d8-aca3-f7b48d5b4d55",
   "metadata": {},
   "source": [
    "## coordinates"
   ]
  },
  {
   "cell_type": "code",
   "execution_count": 14,
   "id": "5dc57c7b-31cd-4a20-9507-884683fae89b",
   "metadata": {
    "execution": {
     "iopub.execute_input": "2024-06-01T13:35:18.894386Z",
     "iopub.status.busy": "2024-06-01T13:35:18.892907Z",
     "iopub.status.idle": "2024-06-01T13:35:21.249483Z",
     "shell.execute_reply": "2024-06-01T13:35:21.248301Z",
     "shell.execute_reply.started": "2024-06-01T13:35:18.894327Z"
    }
   },
   "outputs": [
    {
     "data": {
      "application/vnd.jupyter.widget-view+json": {
       "model_id": "5355c35023e741cf94519c9f3e2c886c",
       "version_major": 2,
       "version_minor": 0
      },
      "text/plain": [
       "  0%|          | 0/2 [00:00<?, ?it/s]"
      ]
     },
     "metadata": {},
     "output_type": "display_data"
    }
   ],
   "source": [
    "# total length of the processed dataframe\n",
    "total_length = len(df_work)\n",
    "\n",
    "# loop\n",
    "for index, row in tqdm(df_work.iterrows(), total=total_length):\n",
    "    # get location information using geopy api\n",
    "    lat, long = sa.get_lat_long(row['지역'])\n",
    "    # putting latitude and longitude into each columns\n",
    "    df_work.at[index, '위도'] = lat\n",
    "    df_work.at[index, '경도'] = long"
   ]
  },
  {
   "cell_type": "code",
   "execution_count": 15,
   "id": "c6a3afcf-f50c-4ba1-9bdd-ee841e1517f2",
   "metadata": {
    "execution": {
     "iopub.execute_input": "2024-06-01T13:35:43.541690Z",
     "iopub.status.busy": "2024-06-01T13:35:43.540295Z",
     "iopub.status.idle": "2024-06-01T13:35:43.619371Z",
     "shell.execute_reply": "2024-06-01T13:35:43.618800Z",
     "shell.execute_reply.started": "2024-06-01T13:35:43.541604Z"
    }
   },
   "outputs": [
    {
     "data": {
      "text/html": [
       "<div>\n",
       "<style scoped>\n",
       "    .dataframe tbody tr th:only-of-type {\n",
       "        vertical-align: middle;\n",
       "    }\n",
       "\n",
       "    .dataframe tbody tr th {\n",
       "        vertical-align: top;\n",
       "    }\n",
       "\n",
       "    .dataframe thead th {\n",
       "        text-align: right;\n",
       "    }\n",
       "</style>\n",
       "<table border=\"1\" class=\"dataframe\">\n",
       "  <thead>\n",
       "    <tr style=\"text-align: right;\">\n",
       "      <th></th>\n",
       "      <th>지역</th>\n",
       "      <th>위도</th>\n",
       "      <th>경도</th>\n",
       "    </tr>\n",
       "  </thead>\n",
       "  <tbody>\n",
       "    <tr>\n",
       "      <th>0</th>\n",
       "      <td>서울</td>\n",
       "      <td>37.554555</td>\n",
       "      <td>126.970779</td>\n",
       "    </tr>\n",
       "    <tr>\n",
       "      <th>1</th>\n",
       "      <td>서울 서울특별시</td>\n",
       "      <td>37.554555</td>\n",
       "      <td>126.970779</td>\n",
       "    </tr>\n",
       "  </tbody>\n",
       "</table>\n",
       "</div>"
      ],
      "text/plain": [
       "         지역         위도          경도\n",
       "0        서울  37.554555  126.970779\n",
       "1  서울 서울특별시  37.554555  126.970779"
      ]
     },
     "execution_count": 15,
     "metadata": {},
     "output_type": "execute_result"
    }
   ],
   "source": [
    "df_work[['지역', '위도', '경도']]"
   ]
  }
 ],
 "metadata": {
  "kernelspec": {
   "display_name": "Python 3 (ipykernel)",
   "language": "python",
   "name": "python3"
  },
  "language_info": {
   "codemirror_mode": {
    "name": "ipython",
    "version": 3
   },
   "file_extension": ".py",
   "mimetype": "text/x-python",
   "name": "python",
   "nbconvert_exporter": "python",
   "pygments_lexer": "ipython3",
   "version": "3.11.0"
  }
 },
 "nbformat": 4,
 "nbformat_minor": 5
}
